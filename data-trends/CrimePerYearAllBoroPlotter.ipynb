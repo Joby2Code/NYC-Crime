{
 "cells": [
  {
   "cell_type": "code",
   "execution_count": null,
   "metadata": {
    "collapsed": true
   },
   "outputs": [],
   "source": [
    "import re\n",
    "from datetime import datetime\n",
    "import matplotlib.pyplot as plt\n",
    "import numpy as np\n",
    "\n",
    "\n",
    "year=2016\n",
    "\n",
    "def plotgraph(data):\n",
    "    lists = sorted(data.items()) # sorted by key, return a list of tuples\n",
    "    daynumber, frequency = zip(*lists) # unpack a list of pairs into two tuples\n",
    "    #Plot data\n",
    "    fig = plt.figure(figsize = (20,3))\n",
    "    plt.title('Crime Occurences Per Day')\n",
    "    plt.ylabel('Crime commited/reported')\n",
    "    plt.xlabel('Day of Year')\n",
    "    plt.plot(daynumber, frequency, marker='o',label=str(year),color='r')\n",
    "    plt.legend()\n",
    "    fig.savefig(\"crime-plots-by-year/crime_\"+str(year)+\".png\")\n",
    "    plt.show()\n",
    "\n",
    "with open(\"crime-data-by-year/\"+str(year)+\"_data.out\") as ins:\n",
    "    data={}\n",
    "    crime_per_day={}\n",
    "    for line in ins:\n",
    "        tuple=pattern.match(line)\n",
    "        date=datetime.strptime(tuple[1],'%m/%d/%Y').date().toordinal();\n",
    "        crimecount=int(tuple[2])\n",
    "        data[date]=crimecount\n",
    "    year_start_date=datetime(int(year),1,1)\n",
    "    for k,v in data.items():\n",
    "        date=datetime.fromordinal(k)\n",
    "        day_number=int(format(date, '%j'))\n",
    "        crime_per_day[day_number]=v\n",
    "       # print(k,v,day_number)   \n",
    "    plotgraph(crime_per_day)\n",
    "    data={}\n",
    "    crime_per_day={}"
   ]
  }
 ],
 "metadata": {
  "kernelspec": {
   "display_name": "Python 3",
   "language": "python",
   "name": "python3"
  },
  "language_info": {
   "codemirror_mode": {
    "name": "ipython",
    "version": 3
   },
   "file_extension": ".py",
   "mimetype": "text/x-python",
   "name": "python",
   "nbconvert_exporter": "python",
   "pygments_lexer": "ipython3",
   "version": "3.6.1"
  }
 },
 "nbformat": 4,
 "nbformat_minor": 2
}
